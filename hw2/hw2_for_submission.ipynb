{
 "cells": [
  {
   "cell_type": "markdown",
   "metadata": {},
   "source": [
    "## 作業二：Space Titanic for submission"
   ]
  },
  {
   "cell_type": "code",
   "execution_count": 91,
   "metadata": {},
   "outputs": [],
   "source": [
    "# model using\n",
    "import joblib\n",
    "model_pretrained = joblib.load('C:\\ML1121\\Spaceship Titanic\\Spaceship-LR-20231114.pkl')\n",
    "import pandas as pd"
   ]
  },
  {
   "cell_type": "code",
   "execution_count": 92,
   "metadata": {},
   "outputs": [],
   "source": [
    "# for submission \n",
    "df_test = pd.read_csv(\"test.csv\")\n",
    "df_ID = df_test['PassengerId']"
   ]
  },
  {
   "cell_type": "markdown",
   "metadata": {},
   "source": [
    "### 把Submission的資料變成原檔案的資料形狀"
   ]
  },
  {
   "cell_type": "code",
   "execution_count": 93,
   "metadata": {},
   "outputs": [],
   "source": [
    "# 將不需要的column刪掉\n",
    "df_test.drop(['Name','PassengerId'],axis=1,inplace=True)\n",
    "df_test.drop(['HomePlanet','RoomService','FoodCourt','ShoppingMall','Spa','VRDeck','VIP'],axis=1,inplace=True)"
   ]
  },
  {
   "cell_type": "code",
   "execution_count": 94,
   "metadata": {},
   "outputs": [
    {
     "data": {
      "text/plain": [
       "CryoSleep      False\n",
       "Cabin          False\n",
       "Destination    False\n",
       "Age            False\n",
       "dtype: bool"
      ]
     },
     "execution_count": 94,
     "metadata": {},
     "output_type": "execute_result"
    }
   ],
   "source": [
    "# 檢查要分析的樣本中是否有空值大於一半的情形\n",
    "df_test.isnull().sum() > len(df_test)/2"
   ]
  },
  {
   "cell_type": "markdown",
   "metadata": {},
   "source": [
    "### 資料處理"
   ]
  },
  {
   "cell_type": "markdown",
   "metadata": {},
   "source": [
    "#### Destination"
   ]
  },
  {
   "cell_type": "code",
   "execution_count": 95,
   "metadata": {},
   "outputs": [],
   "source": [
    "# 將目的地缺失值以最多數填補\n",
    "df_test['Destination'].value_counts().idxmax()\n",
    "df_test['Destination'].fillna(df_test['Destination'].value_counts().idxmax(),inplace=True)\n",
    "# 因為Destination的值非0、1，需要把各項分開才能進行機器學習\n",
    "df_test = pd.get_dummies(data=df_test, dtype = int, columns= ['Destination'])"
   ]
  },
  {
   "cell_type": "markdown",
   "metadata": {},
   "source": [
    "#### Age"
   ]
  },
  {
   "cell_type": "code",
   "execution_count": 96,
   "metadata": {},
   "outputs": [],
   "source": [
    "# 將年齡缺失值以中位數填補\n",
    "df_test['Age'].isnull().value_counts()\n",
    "median_age = df_test['Age'].median()\n",
    "df_test['Age'].fillna(median_age, inplace=True)"
   ]
  },
  {
   "cell_type": "markdown",
   "metadata": {},
   "source": [
    "#### CryoSleep "
   ]
  },
  {
   "cell_type": "code",
   "execution_count": 97,
   "metadata": {},
   "outputs": [],
   "source": [
    "# 將缺失值以最多數填補\n",
    "df_test['CryoSleep'].value_counts().idxmax()\n",
    "df_test['CryoSleep'].fillna(df_test['CryoSleep'].value_counts().idxmax(),inplace=True)\n",
    "# 形式為True or False，需要將其轉換為數字\n",
    "df_test = pd.get_dummies(data=df_test, dtype = int, columns= ['CryoSleep'])"
   ]
  },
  {
   "cell_type": "markdown",
   "metadata": {},
   "source": [
    "#### Cabin"
   ]
  },
  {
   "cell_type": "code",
   "execution_count": 98,
   "metadata": {},
   "outputs": [],
   "source": [
    "# 空值以最多少數填補(假設座位數相同，少的值可視為缺失)\n",
    "df_test[['desk', 'num', 'side']] = df_test['Cabin'].str.split('/', expand=True)\n",
    "df_test['Cabin'].value_counts().idxmin()\n",
    "df_test['Cabin'].fillna(df_test['Cabin'].value_counts().idxmax(),inplace=True)\n",
    "\n",
    "# 分類資料，並將不需要之資料刪除\n",
    "df_test = pd.get_dummies(data=df_test, dtype = int, columns= ['desk'])\n",
    "df_test.drop(['side'],axis=1,inplace = True)\n",
    "df_test.drop(['num'],axis=1,inplace = True)\n",
    "df_test.drop(['Cabin'],axis=1,inplace = True)"
   ]
  },
  {
   "cell_type": "markdown",
   "metadata": {},
   "source": [
    "資料處理完後確認資料無誤"
   ]
  },
  {
   "cell_type": "code",
   "execution_count": 99,
   "metadata": {},
   "outputs": [
    {
     "data": {
      "text/plain": [
       "Age                          0\n",
       "Destination_55 Cancri e      0\n",
       "Destination_PSO J318.5-22    0\n",
       "Destination_TRAPPIST-1e      0\n",
       "CryoSleep_False              0\n",
       "CryoSleep_True               0\n",
       "desk_A                       0\n",
       "desk_B                       0\n",
       "desk_C                       0\n",
       "desk_D                       0\n",
       "desk_E                       0\n",
       "desk_F                       0\n",
       "desk_G                       0\n",
       "desk_T                       0\n",
       "dtype: int64"
      ]
     },
     "execution_count": 99,
     "metadata": {},
     "output_type": "execute_result"
    }
   ],
   "source": [
    "df_test.isnull().sum()"
   ]
  },
  {
   "cell_type": "markdown",
   "metadata": {},
   "source": [
    "### 機器學習"
   ]
  },
  {
   "cell_type": "code",
   "execution_count": 102,
   "metadata": {},
   "outputs": [
    {
     "data": {
      "text/plain": [
       "4277"
      ]
     },
     "execution_count": 102,
     "metadata": {},
     "output_type": "execute_result"
    }
   ],
   "source": [
    "predictions2 = model_pretrained.predict(df_test)\n",
    "len(predictions2)\n"
   ]
  },
  {
   "cell_type": "code",
   "execution_count": 104,
   "metadata": {},
   "outputs": [],
   "source": [
    "forSubmissionDF = pd.DataFrame(columns = ['PassengerID','Transported'])\n",
    "forSubmissionDF['PassengerID'] = df_ID\n",
    "forSubmissionDF['Transported'] = predictions2\n",
    "\n",
    "forSubmissionDF.to_csv('Space titanic_for_sumbmission_20231114.csv',index=False)"
   ]
  },
  {
   "attachments": {
    "image.png": {
     "image/png": "[encoded data removed]"
    }
   },
   "cell_type": "markdown",
   "metadata": {},
   "source": [
    "最後丟入kaggle的分析結果為：\n",
    "![image.png](attachment:image.png)"
   ]
  }
 ],
 "metadata": {
  "kernelspec": {
   "display_name": ".mldev-env",
   "language": "python",
   "name": "python3"
  },
  "language_info": {
   "codemirror_mode": {
    "name": "ipython",
    "version": 3
   },
   "file_extension": ".py",
   "mimetype": "text/x-python",
   "name": "python",
   "nbconvert_exporter": "python",
   "pygments_lexer": "ipython3",
   "version": "3.8.8"
  }
 },
 "nbformat": 4,
 "nbformat_minor": 2
}
